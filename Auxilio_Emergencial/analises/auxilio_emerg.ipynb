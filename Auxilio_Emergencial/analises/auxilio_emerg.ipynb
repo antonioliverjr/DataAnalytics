{
 "cells": [
  {
   "cell_type": "markdown",
   "metadata": {},
   "source": [
    "**Analise de Dados sobre Auxilio Emergencial**\n",
    "- Fonte: https://www.portaldatransparencia.gov.br/download-de-dados/auxilio-emergencial"
   ]
  },
  {
   "cell_type": "code",
   "execution_count": null,
   "metadata": {},
   "outputs": [],
   "source": [
    "from zipfile import ZipFile\n",
    "import os"
   ]
  },
  {
   "cell_type": "code",
   "execution_count": null,
   "metadata": {},
   "outputs": [],
   "source": [
    "path_download = r'C:\\Users\\antoliverjr\\Downloads'\n",
    "path_files = r'C:\\Workspace\\DataAnalystics\\Aux_Emergencial\\csv_aux_emergencial'"
   ]
  },
  {
   "cell_type": "code",
   "execution_count": null,
   "metadata": {},
   "outputs": [],
   "source": [
    "try:\n",
    "    os.mkdir(path_files)\n",
    "except FileExistsError as e:\n",
    "    print(e)"
   ]
  },
  {
   "cell_type": "code",
   "execution_count": null,
   "metadata": {},
   "outputs": [],
   "source": [
    "for file in os.listdir(path_download):\n",
    "    if '202004_AuxilioEmergencial.zip' in file:\n",
    "        print(file)\n",
    "        path_file_origin = os.path.join(path_download, file)"
   ]
  },
  {
   "cell_type": "code",
   "execution_count": null,
   "metadata": {},
   "outputs": [],
   "source": [
    "with ZipFile(path_file_origin, 'r') as csv:\n",
    "    for file in csv.namelist():\n",
    "        print(file)\n",
    "    csv.extractall(path_files)"
   ]
  },
  {
   "cell_type": "code",
   "execution_count": null,
   "metadata": {},
   "outputs": [],
   "source": [
    "import pandas as pd"
   ]
  },
  {
   "cell_type": "code",
   "execution_count": null,
   "metadata": {},
   "outputs": [],
   "source": [
    "for csv in os.listdir(path_files):\n",
    "    if 'AuxilioEmergencial' in csv:\n",
    "        path_file_destino = os.path.join(path_files, csv)"
   ]
  },
  {
   "cell_type": "code",
   "execution_count": null,
   "metadata": {},
   "outputs": [],
   "source": [
    "with open(path_file_destino) as arq:\n",
    "    print(arq)"
   ]
  },
  {
   "cell_type": "code",
   "execution_count": null,
   "metadata": {},
   "outputs": [],
   "source": [
    "mar21 = pd.read_csv(path_file_destino, sep=';', encoding='windows_1258') #UTF-8"
   ]
  },
  {
   "cell_type": "code",
   "execution_count": null,
   "metadata": {},
   "outputs": [],
   "source": [
    "colunas = {\n",
    "    \"MÊS DISPONIBILIZAÇĂO\": \"mes\"\n",
    "    ,\"UF\": \"uf\"\n",
    "    ,\"CÓDIGO MUNICÍPIO IBGE\": \"cod_municipio\"\n",
    "    ,\"NOME MUNICÍPIO\": \"municipio\"\n",
    "    ,\"NIS BENEFICIÁRIO\": \"nis_benef\"\n",
    "    ,\"CPF BENEFICIÁRIO\": \"cpf\"\n",
    "    ,\"NOME BENEFICIÁRIO\": \"beneficiario\"\n",
    "    ,\"NIS RESPONSÁVEL\": \"nis_resp\"\n",
    "    ,\"CPF RESPONSÁVEL\": \"cpf_resp\"\n",
    "    ,\"NOME RESPONSÁVEL\": \"nome_resp\"\n",
    "    ,\"ENQUADRAMENTO\": \"enquadra\"\n",
    "    ,\"PARCELA\": \"parc\"\n",
    "    ,\"OBSERVAÇĂO\": \"obs\"\n",
    "    ,\"VALOR BENEFÍCIO\": \"valor\"\n",
    "}"
   ]
  },
  {
   "cell_type": "code",
   "execution_count": null,
   "metadata": {},
   "outputs": [],
   "source": [
    "mar21.rename(columns=colunas, inplace=True)"
   ]
  },
  {
   "cell_type": "code",
   "execution_count": null,
   "metadata": {},
   "outputs": [],
   "source": [
    "mar21.head()"
   ]
  },
  {
   "cell_type": "code",
   "execution_count": null,
   "metadata": {},
   "outputs": [],
   "source": [
    "mar21.dtypes"
   ]
  },
  {
   "cell_type": "code",
   "execution_count": null,
   "metadata": {},
   "outputs": [],
   "source": [
    "mar21.uf.unique()"
   ]
  },
  {
   "cell_type": "code",
   "execution_count": null,
   "metadata": {},
   "outputs": [],
   "source": [
    "filtro_mar = mar21.dropna(subset=['municipio'])"
   ]
  },
  {
   "cell_type": "code",
   "execution_count": null,
   "metadata": {},
   "outputs": [],
   "source": [
    "filtro_mar.head()"
   ]
  },
  {
   "cell_type": "code",
   "execution_count": null,
   "metadata": {},
   "outputs": [],
   "source": [
    "pd.to_numeric(filtro_mar[\"valor\"].str.replace(',','.'))"
   ]
  },
  {
   "cell_type": "code",
   "execution_count": null,
   "metadata": {},
   "outputs": [],
   "source": [
    "filtro_mar.dtypes"
   ]
  },
  {
   "cell_type": "code",
   "execution_count": null,
   "metadata": {},
   "outputs": [],
   "source": [
    "filtro_mar.groupby([\"uf\",\"municipio\"]).sum(\"valor\")"
   ]
  },
  {
   "cell_type": "code",
   "execution_count": null,
   "metadata": {},
   "outputs": [],
   "source": [
    "csv_final = pd.DataFrame(columns={\n",
    "    \"mes\": int\n",
    "    ,\"uf\": str\n",
    "    ,\"cod_municipio\": float\n",
    "    ,\"municipio\": str\n",
    "    ,\"nis_benef\": float\n",
    "    ,\"cpf\": str\n",
    "    ,\"beneficiario\": str\n",
    "    ,\"nis_resp\": float\n",
    "    ,\"cpf_resp\": str\n",
    "    ,\"nome_resp\": str\n",
    "    ,\"enquadra\": str\n",
    "    ,\"parc\": str\n",
    "    ,\"obs\": str\n",
    "    ,\"valor\": float\n",
    "})"
   ]
  },
  {
   "cell_type": "code",
   "execution_count": null,
   "metadata": {},
   "outputs": [],
   "source": [
    "csv_final.append(filtro_mar)"
   ]
  }
 ],
 "metadata": {
  "interpreter": {
   "hash": "b3ba2566441a7c06988d0923437866b63cedc61552a5af99d1f4fb67d367b25f"
  },
  "kernelspec": {
   "display_name": "Python 3.8.8 ('base')",
   "language": "python",
   "name": "python3"
  },
  "language_info": {
   "codemirror_mode": {
    "name": "ipython",
    "version": 3
   },
   "file_extension": ".py",
   "mimetype": "text/x-python",
   "name": "python",
   "nbconvert_exporter": "python",
   "pygments_lexer": "ipython3",
   "version": "3.8.8"
  },
  "orig_nbformat": 4
 },
 "nbformat": 4,
 "nbformat_minor": 2
}
