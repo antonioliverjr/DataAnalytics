{
 "cells": [
  {
   "cell_type": "markdown",
   "metadata": {},
   "source": [
    "**Analise de Dados sobre Auxilio Emergencial**\n",
    "- Fonte: https://www.portaldatransparencia.gov.br/download-de-dados/auxilio-emergencial"
   ]
  },
  {
   "cell_type": "code",
   "execution_count": 15,
   "metadata": {},
   "outputs": [],
   "source": [
    "import os\n",
    "import pandas as pd"
   ]
  },
  {
   "cell_type": "code",
   "execution_count": 2,
   "metadata": {},
   "outputs": [],
   "source": [
    "path_files = r'C:\\Workspace\\DataAnalytics\\Auxilio_Emergencial\\csv_aux_emergencial'"
   ]
  },
  {
   "cell_type": "code",
   "execution_count": 18,
   "metadata": {},
   "outputs": [
    {
     "name": "stdout",
     "output_type": "stream",
     "text": [
      "Carregando CSV - AuxilioEmergencial.csv!\n"
     ]
    }
   ],
   "source": [
    "for csv_file in os.listdir(path_arquivos):\n",
    "    path_csv = os.path.join(path_arquivos, csv_file)\n",
    "    print(f'Carregando CSV - {csv_file}!')\n",
    "    df_csv = pd.read_csv(path_csv)\n",
    "    break"
   ]
  },
  {
   "cell_type": "code",
   "execution_count": 19,
   "metadata": {},
   "outputs": [
    {
     "data": {
      "text/html": [
       "<div>\n",
       "<style scoped>\n",
       "    .dataframe tbody tr th:only-of-type {\n",
       "        vertical-align: middle;\n",
       "    }\n",
       "\n",
       "    .dataframe tbody tr th {\n",
       "        vertical-align: top;\n",
       "    }\n",
       "\n",
       "    .dataframe thead th {\n",
       "        text-align: right;\n",
       "    }\n",
       "</style>\n",
       "<table border=\"1\" class=\"dataframe\">\n",
       "  <thead>\n",
       "    <tr style=\"text-align: right;\">\n",
       "      <th></th>\n",
       "      <th>ANO_MES</th>\n",
       "      <th>COD_MUNICIPIO</th>\n",
       "      <th>ENQUADRAMENTO</th>\n",
       "      <th>PARCELA</th>\n",
       "      <th>TOTAL_PAGO</th>\n",
       "    </tr>\n",
       "  </thead>\n",
       "  <tbody>\n",
       "    <tr>\n",
       "      <th>0</th>\n",
       "      <td>202103</td>\n",
       "      <td>1100023</td>\n",
       "      <td>CADUNICO</td>\n",
       "      <td>1ª</td>\n",
       "      <td>600.0</td>\n",
       "    </tr>\n",
       "    <tr>\n",
       "      <th>1</th>\n",
       "      <td>202103</td>\n",
       "      <td>1100023</td>\n",
       "      <td>CADUNICO</td>\n",
       "      <td>2ª</td>\n",
       "      <td>600.0</td>\n",
       "    </tr>\n",
       "    <tr>\n",
       "      <th>2</th>\n",
       "      <td>202103</td>\n",
       "      <td>1100023</td>\n",
       "      <td>CADUNICO</td>\n",
       "      <td>3ª</td>\n",
       "      <td>600.0</td>\n",
       "    </tr>\n",
       "    <tr>\n",
       "      <th>3</th>\n",
       "      <td>202103</td>\n",
       "      <td>1100023</td>\n",
       "      <td>CADUNICO</td>\n",
       "      <td>4ª</td>\n",
       "      <td>600.0</td>\n",
       "    </tr>\n",
       "    <tr>\n",
       "      <th>4</th>\n",
       "      <td>202103</td>\n",
       "      <td>1100023</td>\n",
       "      <td>CADUNICO</td>\n",
       "      <td>5ª</td>\n",
       "      <td>600.0</td>\n",
       "    </tr>\n",
       "  </tbody>\n",
       "</table>\n",
       "</div>"
      ],
      "text/plain": [
       "   ANO_MES  COD_MUNICIPIO ENQUADRAMENTO PARCELA  TOTAL_PAGO\n",
       "0   202103        1100023      CADUNICO      1ª       600.0\n",
       "1   202103        1100023      CADUNICO      2ª       600.0\n",
       "2   202103        1100023      CADUNICO      3ª       600.0\n",
       "3   202103        1100023      CADUNICO      4ª       600.0\n",
       "4   202103        1100023      CADUNICO      5ª       600.0"
      ]
     },
     "execution_count": 19,
     "metadata": {},
     "output_type": "execute_result"
    }
   ],
   "source": [
    "df_csv.head(5)"
   ]
  },
  {
   "cell_type": "code",
   "execution_count": 20,
   "metadata": {},
   "outputs": [
    {
     "data": {
      "text/plain": [
       "ANO_MES            int64\n",
       "COD_MUNICIPIO      int64\n",
       "ENQUADRAMENTO     object\n",
       "PARCELA           object\n",
       "TOTAL_PAGO       float64\n",
       "dtype: object"
      ]
     },
     "execution_count": 20,
     "metadata": {},
     "output_type": "execute_result"
    }
   ],
   "source": [
    "df_csv.dtypes"
   ]
  },
  {
   "cell_type": "code",
   "execution_count": 11,
   "metadata": {},
   "outputs": [
    {
     "data": {
      "text/plain": [
       "16710"
      ]
     },
     "execution_count": 11,
     "metadata": {},
     "output_type": "execute_result"
    }
   ],
   "source": [
    "df_csv.shape[0]"
   ]
  },
  {
   "cell_type": "markdown",
   "metadata": {},
   "source": [
    "**Primeiras analises do dataset para insight de dados**"
   ]
  },
  {
   "cell_type": "markdown",
   "metadata": {},
   "source": [
    "mar21 = pd.read_csv(path_file_destino, sep=';', encoding='windows_1258') #UTF-8"
   ]
  },
  {
   "cell_type": "markdown",
   "metadata": {},
   "source": [
    "colunas = {\n",
    "    \"MÊS DISPONIBILIZAÇĂO\": \"mes\"\n",
    "    ,\"UF\": \"uf\"\n",
    "    ,\"CÓDIGO MUNICÍPIO IBGE\": \"cod_municipio\"\n",
    "    ,\"NOME MUNICÍPIO\": \"municipio\"\n",
    "    ,\"NIS BENEFICIÁRIO\": \"nis_benef\"\n",
    "    ,\"CPF BENEFICIÁRIO\": \"cpf\"\n",
    "    ,\"NOME BENEFICIÁRIO\": \"beneficiario\"\n",
    "    ,\"NIS RESPONSÁVEL\": \"nis_resp\"\n",
    "    ,\"CPF RESPONSÁVEL\": \"cpf_resp\"\n",
    "    ,\"NOME RESPONSÁVEL\": \"nome_resp\"\n",
    "    ,\"ENQUADRAMENTO\": \"enquadra\"\n",
    "    ,\"PARCELA\": \"parc\"\n",
    "    ,\"OBSERVAÇĂO\": \"obs\"\n",
    "    ,\"VALOR BENEFÍCIO\": \"valor\"\n",
    "}"
   ]
  },
  {
   "cell_type": "markdown",
   "metadata": {},
   "source": [
    "mar21.rename(columns=colunas, inplace=True)"
   ]
  },
  {
   "cell_type": "markdown",
   "metadata": {},
   "source": [
    "mar21.head()"
   ]
  },
  {
   "cell_type": "markdown",
   "metadata": {},
   "source": [
    "mar21.dtypes"
   ]
  },
  {
   "cell_type": "markdown",
   "metadata": {},
   "source": [
    "mar21.uf.unique()"
   ]
  },
  {
   "cell_type": "markdown",
   "metadata": {},
   "source": [
    "filtro_mar = mar21.dropna(subset=['municipio'])"
   ]
  },
  {
   "cell_type": "markdown",
   "metadata": {},
   "source": [
    "filtro_mar.head()"
   ]
  },
  {
   "cell_type": "markdown",
   "metadata": {},
   "source": [
    "pd.to_numeric(filtro_mar[\"valor\"].str.replace(',','.'))"
   ]
  },
  {
   "cell_type": "markdown",
   "metadata": {},
   "source": [
    "filtro_mar.dtypes"
   ]
  },
  {
   "cell_type": "markdown",
   "metadata": {},
   "source": [
    "filtro_mar.groupby([\"uf\",\"municipio\"]).sum(\"valor\")"
   ]
  },
  {
   "cell_type": "markdown",
   "metadata": {},
   "source": [
    "csv_final = pd.DataFrame(columns={\n",
    "    \"mes\": int\n",
    "    ,\"uf\": str\n",
    "    ,\"cod_municipio\": float\n",
    "    ,\"municipio\": str\n",
    "    ,\"nis_benef\": float\n",
    "    ,\"cpf\": str\n",
    "    ,\"beneficiario\": str\n",
    "    ,\"nis_resp\": float\n",
    "    ,\"cpf_resp\": str\n",
    "    ,\"nome_resp\": str\n",
    "    ,\"enquadra\": str\n",
    "    ,\"parc\": str\n",
    "    ,\"obs\": str\n",
    "    ,\"valor\": float\n",
    "})"
   ]
  },
  {
   "cell_type": "markdown",
   "metadata": {},
   "source": [
    "csv_final.append(filtro_mar)"
   ]
  }
 ],
 "metadata": {
  "interpreter": {
   "hash": "b3ba2566441a7c06988d0923437866b63cedc61552a5af99d1f4fb67d367b25f"
  },
  "kernelspec": {
   "display_name": "Python 3.8.8 ('base')",
   "language": "python",
   "name": "python3"
  },
  "language_info": {
   "codemirror_mode": {
    "name": "ipython",
    "version": 3
   },
   "file_extension": ".py",
   "mimetype": "text/x-python",
   "name": "python",
   "nbconvert_exporter": "python",
   "pygments_lexer": "ipython3",
   "version": "3.8.8"
  },
  "orig_nbformat": 4
 },
 "nbformat": 4,
 "nbformat_minor": 2
}
