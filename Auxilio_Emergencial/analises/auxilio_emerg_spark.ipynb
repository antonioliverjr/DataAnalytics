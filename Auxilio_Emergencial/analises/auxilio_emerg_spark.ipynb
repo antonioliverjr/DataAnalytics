{
 "cells": [
  {
   "cell_type": "code",
   "execution_count": 15,
   "metadata": {},
   "outputs": [],
   "source": [
    "import os\n",
    "from pyspark.sql import SparkSession\n",
    "from pyspark.sql.functions import regexp_replace, col, count"
   ]
  },
  {
   "cell_type": "code",
   "execution_count": 2,
   "metadata": {},
   "outputs": [],
   "source": [
    "spark = SparkSession.builder.getOrCreate()"
   ]
  },
  {
   "cell_type": "code",
   "execution_count": 3,
   "metadata": {},
   "outputs": [],
   "source": [
    "path_file = r'C:\\Workspace\\DataAnalytics\\Auxilio_Emergencial\\csv_aux_emergencial\\202103_AuxilioEmergencial.csv'"
   ]
  },
  {
   "cell_type": "code",
   "execution_count": 4,
   "metadata": {},
   "outputs": [],
   "source": [
    "df = spark.read.csv(path_file, encoding='ISO-8859-1', sep='\";\"', header=True)"
   ]
  },
  {
   "cell_type": "code",
   "execution_count": 5,
   "metadata": {},
   "outputs": [],
   "source": [
    "df = df.toDF('ANO_MES', 'UF', 'COD_MUNICIPIO','NOME_MUNICIPIO','NIS_BENEF','CPF_BENEF','NOME_BENEF','NIS_RESP','CPF_RESP','NOME_RESP','ENQUADRAMENTO','PARCELA','OBS','VALOR')"
   ]
  },
  {
   "cell_type": "code",
   "execution_count": 6,
   "metadata": {},
   "outputs": [],
   "source": [
    "df2 = df.withColumn('ANO_MES', regexp_replace('ANO_MES', '\"', ''))\\\n",
    "    .withColumn('VALOR', regexp_replace('VALOR', '\"', ''))\\\n",
    "    .withColumn('VALOR', regexp_replace('VALOR', ',', '.'))\\\n",
    "    .withColumn('VALOR', col('VALOR').cast('float'))"
   ]
  },
  {
   "cell_type": "code",
   "execution_count": 11,
   "metadata": {},
   "outputs": [
    {
     "name": "stdout",
     "output_type": "stream",
     "text": [
      "+-------+---+-------------+--------------+---------+---------+----------+--------+--------+-------------+-------------+-------+------+-----+\n",
      "|ANO_MES| UF|COD_MUNICIPIO|NOME_MUNICIPIO|NIS_BENEF|CPF_BENEF|NOME_BENEF|NIS_RESP|CPF_RESP|    NOME_RESP|ENQUADRAMENTO|PARCELA|   OBS|VALOR|\n",
      "+-------+---+-------------+--------------+---------+---------+----------+--------+--------+-------------+-------------+-------+------+-----+\n",
      "| 202103| AC|      1200054|  ASSIS BRASIL|       -3|     null|  Inválido|      -2|    null|Não se aplica|     EXTRACAD|     3ª|Não há|600.0|\n",
      "| 202103| AC|      1200054|  ASSIS BRASIL|       -3|     null|  Inválido|      -2|    null|Não se aplica|     EXTRACAD|     5ª|Não há|600.0|\n",
      "+-------+---+-------------+--------------+---------+---------+----------+--------+--------+-------------+-------------+-------+------+-----+\n",
      "only showing top 2 rows\n",
      "\n"
     ]
    }
   ],
   "source": [
    "df2.filter(\"COD_MUNICIPIO IS NOT NULL\").show(2)"
   ]
  },
  {
   "cell_type": "code",
   "execution_count": 19,
   "metadata": {},
   "outputs": [
    {
     "name": "stdout",
     "output_type": "stream",
     "text": [
      "+-------+---+-------------+--------------+---------+---------+----------+--------+--------+-------------+-------------+-------+------+-----+\n",
      "|ANO_MES| UF|COD_MUNICIPIO|NOME_MUNICIPIO|NIS_BENEF|CPF_BENEF|NOME_BENEF|NIS_RESP|CPF_RESP|    NOME_RESP|ENQUADRAMENTO|PARCELA|   OBS|VALOR|\n",
      "+-------+---+-------------+--------------+---------+---------+----------+--------+--------+-------------+-------------+-------+------+-----+\n",
      "| 202103| AC|      1200054|  ASSIS BRASIL|       -3|     null|  Inválido|      -2|    null|Não se aplica|     EXTRACAD|     3ª|Não há|600.0|\n",
      "| 202103| AC|      1200054|  ASSIS BRASIL|       -3|     null|  Inválido|      -2|    null|Não se aplica|     EXTRACAD|     5ª|Não há|600.0|\n",
      "+-------+---+-------------+--------------+---------+---------+----------+--------+--------+-------------+-------------+-------+------+-----+\n",
      "only showing top 2 rows\n",
      "\n"
     ]
    }
   ],
   "source": [
    "df2.filter(\"COD_MUNICIPIO IS NOT NULL AND CPF_BENEF IS NULL\").show(2)"
   ]
  },
  {
   "cell_type": "code",
   "execution_count": 21,
   "metadata": {},
   "outputs": [
    {
     "name": "stdout",
     "output_type": "stream",
     "text": [
      "+-------+-------------+-----------+\n",
      "|ANO_MES|COD_MUNICIPIO|TOTAL_BENEF|\n",
      "+-------+-------------+-----------+\n",
      "| 202103|      2707107|          6|\n",
      "| 202103|      2906907|          4|\n",
      "| 202103|      5213756|          1|\n",
      "| 202103|      3120508|          4|\n",
      "| 202103|      3129657|          4|\n",
      "| 202103|      3152105|          9|\n",
      "| 202103|      5001102|         19|\n",
      "| 202103|      4117206|          3|\n",
      "| 202103|      2703007|          5|\n",
      "| 202103|      2914802|         24|\n",
      "| 202103|      2914901|          3|\n",
      "| 202103|      2920403|          5|\n",
      "| 202103|      2925758|          4|\n",
      "| 202103|      2307007|          3|\n",
      "| 202103|      2105302|         68|\n",
      "| 202103|      2111904|          6|\n",
      "| 202103|      3117702|          4|\n",
      "| 202103|      3154200|          5|\n",
      "| 202103|      2607208|         23|\n",
      "| 202103|      2616308|         72|\n",
      "+-------+-------------+-----------+\n",
      "only showing top 20 rows\n",
      "\n"
     ]
    }
   ],
   "source": [
    "df2.filter(\"COD_MUNICIPIO IS NOT NULL AND CPF_BENEF IS NOT NULL\")\\\n",
    "    .groupBy(['ANO_MES','COD_MUNICIPIO'])\\\n",
    "    .agg(count('COD_MUNICIPIO').alias('TOTAL_BENEF')).show()"
   ]
  },
  {
   "cell_type": "code",
   "execution_count": 20,
   "metadata": {},
   "outputs": [
    {
     "name": "stdout",
     "output_type": "stream",
     "text": [
      "+-------+-------------+--------------+\n",
      "|ANO_MES|COD_MUNICIPIO|TOTAL_ANONIMOS|\n",
      "+-------+-------------+--------------+\n",
      "| 202103|      3132909|             5|\n",
      "| 202103|      5001102|             5|\n",
      "| 202103|      2914802|             5|\n",
      "| 202103|      2105302|            11|\n",
      "| 202103|      3154200|             5|\n",
      "| 202103|      2616308|            18|\n",
      "| 202103|      2304103|             5|\n",
      "| 202103|      2311801|             5|\n",
      "| 202103|      5204508|             5|\n",
      "| 202103|      3134707|             5|\n",
      "| 202103|      3170057|             5|\n",
      "| 202103|      2514206|             5|\n",
      "| 202103|      2509107|             2|\n",
      "| 202103|      2513802|             5|\n",
      "| 202103|      2913002|             9|\n",
      "| 202103|      3138401|             5|\n",
      "| 202103|      2706703|             9|\n",
      "| 202103|      3157807|             6|\n",
      "| 202103|      3167103|             5|\n",
      "| 202103|      2303600|             5|\n",
      "+-------+-------------+--------------+\n",
      "only showing top 20 rows\n",
      "\n"
     ]
    }
   ],
   "source": [
    "df2.filter(\"COD_MUNICIPIO IS NOT NULL AND CPF_BENEF IS NULL\")\\\n",
    "    .groupBy(['ANO_MES','COD_MUNICIPIO'])\\\n",
    "    .agg(count('COD_MUNICIPIO').alias('TOTAL_ANONIMOS')).show()"
   ]
  },
  {
   "cell_type": "code",
   "execution_count": 7,
   "metadata": {},
   "outputs": [],
   "source": [
    "df_final = df2.filter(\"COD_MUNICIPIO IS NOT NULL\").groupBy(['ANO_MES','COD_MUNICIPIO','ENQUADRAMENTO','PARCELA']).sum('VALOR')"
   ]
  },
  {
   "cell_type": "code",
   "execution_count": 8,
   "metadata": {},
   "outputs": [],
   "source": [
    "df_final_order = df_final.orderBy(['COD_MUNICIPIO','ENQUADRAMENTO','PARCELA'])"
   ]
  },
  {
   "cell_type": "code",
   "execution_count": 46,
   "metadata": {},
   "outputs": [],
   "source": [
    "ano_mes = df_final_order.select('ANO_MES').limit(1).collect()"
   ]
  },
  {
   "cell_type": "code",
   "execution_count": 47,
   "metadata": {},
   "outputs": [],
   "source": [
    "destino = r'C:\\Workspace\\DataAnalytics\\Auxilio_Emergencial\\csv_aux_emergencial'\n",
    "path_destino = destino+'\\\\'+ano_mes[0][0]"
   ]
  },
  {
   "cell_type": "code",
   "execution_count": 51,
   "metadata": {},
   "outputs": [],
   "source": [
    "try:\n",
    "    os.mkdir(path_destino)\n",
    "except FileExistsError:\n",
    "    pass"
   ]
  },
  {
   "cell_type": "code",
   "execution_count": 57,
   "metadata": {},
   "outputs": [],
   "source": [
    "file_csv = path_destino+'\\\\'+'AuxilioEmergencial.csv'\n",
    "df_final_order.toPandas().to_csv(file_csv)"
   ]
  },
  {
   "cell_type": "code",
   "execution_count": 59,
   "metadata": {},
   "outputs": [],
   "source": [
    "carga_municipios = df5.select('COD_MUNICIPIO', 'NOME_MUNICIPIO', 'UF').distinct().filter(\"COD_MUNICIPIO IS NOT NULL\")"
   ]
  },
  {
   "cell_type": "code",
   "execution_count": 60,
   "metadata": {},
   "outputs": [],
   "source": [
    "csv_municipio = path_destino+'\\\\'+'municipios.csv'\n",
    "carga_municipios.toPandas().to_csv(csv_municipio)"
   ]
  },
  {
   "cell_type": "code",
   "execution_count": 3,
   "metadata": {},
   "outputs": [
    {
     "name": "stdout",
     "output_type": "stream",
     "text": [
      "202104_AuxilioEmergencial.zip\n",
      "C:\\Workspace\\DataAnalystics\\Aux_Emergencial\\historico_zip\n"
     ]
    }
   ],
   "source": [
    "path_download = 'C:\\\\Users\\\\antoliverjr\\\\Downloads'\n",
    "path_historico = 'C:\\\\Workspace\\\\DataAnalystics\\\\Aux_Emergencial\\\\historico_zip'\n",
    "path_files = 'C:\\\\Workspace\\\\DataAnalystics\\\\Aux_Emergencial\\\\csv_aux_emergencial'\n",
    "url_download = 'https://www.portaldatransparencia.gov.br/download-de-dados/auxilio-emergencial/'\n",
    "\n",
    "try: os.mkdir(path_files)\n",
    "except FileExistsError: pass\n",
    "\n",
    "try: os.mkdir(path_historico)\n",
    "except FileExistsError: pass\n",
    "\n",
    "file_name = '202104_AuxilioEmergencial.zip'\n",
    "path_file_origin = os.path.join(path_download, file_name)\n",
    "path_file_job = os.path.join(path_historico, file_name)\n",
    "\n",
    "print(file_name)\n",
    "print(path_historico)\n",
    "\n",
    "for files in os.listdir(path_historico):\n",
    "    print(files)"
   ]
  }
 ],
 "metadata": {
  "interpreter": {
   "hash": "b3ba2566441a7c06988d0923437866b63cedc61552a5af99d1f4fb67d367b25f"
  },
  "kernelspec": {
   "display_name": "Python 3.8.8 ('base')",
   "language": "python",
   "name": "python3"
  },
  "language_info": {
   "codemirror_mode": {
    "name": "ipython",
    "version": 3
   },
   "file_extension": ".py",
   "mimetype": "text/x-python",
   "name": "python",
   "nbconvert_exporter": "python",
   "pygments_lexer": "ipython3",
   "version": "3.8.8"
  },
  "orig_nbformat": 4
 },
 "nbformat": 4,
 "nbformat_minor": 2
}
